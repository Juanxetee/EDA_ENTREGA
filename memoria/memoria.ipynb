{
 "cells": [
  {
   "cell_type": "markdown",
   "metadata": {},
   "source": [
    "# Memoria EDA\n",
    "\n",
    "## 1. Importar y Cargar datos: \n",
    "- Lo primero que hago es importar las librerias, módulos y archivos que voy a necesitar a lo largo del proyecto. \n",
    "- Lo siguiente se trata de cargar los dos dataset con los que voy a trabajar. El primero, de ventas, no tiene gran importancia a la hora del análisis de datos pero me servirá de apoyo para hacer una breve introducción a la industria Pokémon, que es el tema a tratar. \n",
    "## 2. Limpieza de datos: \n",
    "- En ambos datasets realizo una limpieza, siendo en el de ventas bastante simple, eliminando la palabra 'millones' y la 'coma', para poder cambiar el tipo a float y así no tener problemas en la creación de gráficas. \n",
    "- Para limpiar el dataset pokemon (el principal):\n",
    "    - Primero elimino las columnas que no voy a necesitar. \n",
    "    - Para limpiar los nulos de la columna 'type2', me parece que la mejor idea es asignarle el mismo tipo de 'type1', conservando asi su tipo intacto pero me queda un dataset sin nulos. (La funcion filltype la cree porque en un principio trabajaba con 3 dataset distintos, pero por un error con el kernel y no guardar correctamente el trabajo, se me borro todo lo hecho en una semana, al empezar de cero me di cuenta que ninguno de los 3 dataset estaba actualizado, asi que empece de cero con un nuevo dataset actualizado pero conserve la función)\n",
    "    - Lo siguiente que hago es una función lambda junto con el método 'map()', que lo que hace es capitalizar la primera letra de cada palabra en cada elemento del dataset.\n",
    "    - Para limpiar la columna 'generation' utilizo una expresion regular que encuentra la palabra 'Generation-', luego devuelvo el numero romano en mayusculas porque parecia mejor visualmente, pero más adelante encontré problemas con las gráficas así que tuve que cambiarlos a numeros arábigos finalmente.\n",
    "    - Siguiendo con la columna 'evolves_from', meramente visual me disgustaba ver la palabra 'Nothing', dándole sentido 'Original', haciendo referencia a la forma con la que nace o se crea.\n",
    "- Una vez limpio, al menos para mi, procedo a guardarlo en 3 formatos distintos por previsiones futuras.\n",
    "## 3. Mostrar, Analizar y Visualizar datos:\n",
    "- En el dataset pokemon recurro al método 'isnull().sum()' para verificar que la limpieza ha sido correcta y no hay nulos. Métodos 'describe, info, head y tail'. Para mostrar información general del dataset, que puedas echar un vistazo general a la estructura del mismo y por último, una pequeña muestra tanto del principio, como del final.\n",
    "- Antes de empezar a extraer datos primero quiero hacer unas visualizaciones:\n",
    "    - Un gráfico de barras para ver la distribución de pokemon por generación.\n",
    "    - Un histograma para cada atributo, incluido el total, para ver la distribucion de los valores en terminos generales.\n",
    "    - Un mapa de calor que muestra la correlación entre todos los atributos de los pokemon.\n",
    "    - Dos gráficos de densidad, uno entre las variables de 'atk' y 'def', y otro para 'spatk' y 'spdef', vemos la relación que existe entre estas variables y podemos comparar que estilo de juego puede ser más efectivo (siendo objetivos).\n",
    "- Empiezo con una primer análisis, encuentro la moda de la columna 'type1', con lo que podré saber cuál es el tipo pokémon que más se repite, o sea el más común. Además, hago un conteo de los valores del 'type1', para así confirmar que el tipo agua predomina. Encuentro tambien la mediana, la media y la varianza sobre la columna 'total', para aportar más información. Visualizo con un gráfico de caja estos ultimos datos.\n",
    "- Creo una lista de colores que representen cada tipo pokemon, estos colores los utilizare en las graficas en las que vaya a tratar los tipos y así quedará mejor representado que con los colores predeterminados.\n",
    "    - Visualizo un gráfico de barras para ver la distribución de tipos, que son los datos que estaba extrayendo, confirman que el tipo que domina es agua.\n",
    "    - Creo un mapa de calor para ver los cruces de tipos más comunes.\n",
    "    - Utilizo un gráfico de barras de violin para comparar la influencia del tipo1 con el total de puntos, hago lo mismo para el tipo2.\n",
    "- Busco los valores más repetidos de la columna 'evolves from', como no me gusta el resultado porque 'Original' no cuenta como evolución, filtro la búsqueda excluyendolo. Así obtengo los 10 pokemon con más evoluciones, encontrando así el pokemon con más evoluciones con diferencia. Finalizo con una visualización en forma de tarta.\n",
    "- Las siguientes celdas se centran en encontrar el top 5 de mejores pokemon para cada caracteristica. Filtro cada caracteristica con una condicion que me permita encontrar los 5 mejores, luego filtro el resultado por la misma caracteristica que quiero buscar y muestro los 5 primeros.\n",
    "    - En este punto, aprovechando las tablas de top 5 que saque, llamo a la función combate, que lo que hace es comparar 5 pokemon haciendo un grafico polar con las caracteristicas de cada uno y superponiendolos unos con otros para poder así ver cuál destaca. Es una herramienta visual.\n",
    "- Seguimos con la extracción de datos, busco los 10 pokemon con menos vida, encuentro un caso especial. A continuación, busco los 10 pokemon con más puntos totales.\n",
    "- Pruebo la funcion de comparar el atributo que elijas entre dos pokemon.\n",
    "- Diferencio los pokemon legendarios y los míticos y veo cuáles son los de cada categoría, finalmente los junto para tenerlos tanto juntos como separados.\n",
    "    - Recorro las generaciones para separarlos por su correspondiente y asi poder hacer un df de legendarios por cada generación, los cuales procedo a guardar de cara a investigaciones futuras.\n",
    "    - Vuelvo a iterar sobre 'generation' pero esta vez para encontrar el pokemon legendario más fuerte de cada generación, en base al total de sus características, para ser objetivo.\n",
    "    - Encuentro que la moda en los tipos de legendarios es Psíquico, que la mediana y la media casi coinciden (del total de características) y visualizo con un diagrama de cajas en el que encuentro una serie de outliers, los cuales procedo a investigar a continuación.\n",
    "    - Los outliers por arriba parecen ser los 5 pokemon que mas despuntan en su total. Mientras que por abajo son los pokemon que bien no tienen su forma completa o aún pueden evolucionar, por lo que están muy por debajo en cuánto a su total.\n",
    "- Visualizo toda la exploración de datos sobre legendarios con:\n",
    "    - Un grafico de barras para ver la distribución de míticos o legendarios por su tipo.\n",
    "    - Un gráfico de dispersión sobre el total de las estadísticas que me ayuda a ver que aunque lo míticos son menos en cantidad su fuerza es equiparable a la de los legendarios.\n",
    "    - Un gráfico de barras horizontales para ver de manera sencilla cuantos pokemon hay míticos y cuantos legendarios.\n",
    "    - Otro gráfico de barras horizontales para esta vez comparar los totales de un grupo y de otro, reafirmando que los míticos, aunque menos cantidad, tienen un poder por encima de la media de legendarios.\n",
    "    - Dos formas de ver la frecuencia de cada tipo por generación:\n",
    "        - Un gráfico de lineas.\n",
    "        - Un gráfico de barras apiladas."
   ]
  }
 ],
 "metadata": {
  "language_info": {
   "name": "python"
  }
 },
 "nbformat": 4,
 "nbformat_minor": 2
}
